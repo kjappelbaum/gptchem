{
 "cells": [
  {
   "cell_type": "code",
   "execution_count": 1,
   "metadata": {},
   "outputs": [],
   "source": [
    "%load_ext autoreload\n",
    "%autoreload 2"
   ]
  },
  {
   "cell_type": "code",
   "execution_count": 38,
   "metadata": {},
   "outputs": [],
   "source": [
    "from gptchem.data import get_photoswitch_data\n",
    "from gptchem.evaluator import  predict_photoswitch\n",
    "from gptchem.gpt_classifier import GPTClassifier\n",
    "from gptchem.extractor import ClassificationExtractor\n",
    "from gptchem.tuner import Tuner\n",
    "import matplotlib.pyplot as plt\n",
    "\n",
    "import numpy as np "
   ]
  },
  {
   "cell_type": "code",
   "execution_count": 3,
   "metadata": {},
   "outputs": [],
   "source": [
    "data = get_photoswitch_data()\n",
    "data = data.dropna(subset=['SMILES', 'E isomer pi-pi* wavelength in nm'])"
   ]
  },
  {
   "cell_type": "code",
   "execution_count": 4,
   "metadata": {},
   "outputs": [
    {
     "data": {
      "text/plain": [
       "(array([  3., 133.,  42.,  74.,  72.,  29.,  16.,  12.,   6.,   3.]),\n",
       " array([267. , 302.6, 338.2, 373.8, 409.4, 445. , 480.6, 516.2, 551.8,\n",
       "        587.4, 623. ]),\n",
       " <BarContainer object of 10 artists>)"
      ]
     },
     "execution_count": 4,
     "metadata": {},
     "output_type": "execute_result"
    },
    {
     "data": {
      "image/png": "[encoded data removed]",
      "text/plain": [
       "<Figure size 640x480 with 1 Axes>"
      ]
     },
     "metadata": {},
     "output_type": "display_data"
    }
   ],
   "source": [
    "plt.hist(data['E isomer pi-pi* wavelength in nm'])"
   ]
  },
  {
   "cell_type": "code",
   "execution_count": 30,
   "metadata": {},
   "outputs": [],
   "source": [
    "train_data = data[data['E isomer pi-pi* wavelength in nm'] < 400]\n",
    "test_data = data[data['E isomer pi-pi* wavelength in nm'] >= 400]"
   ]
  },
  {
   "cell_type": "code",
   "execution_count": 39,
   "metadata": {},
   "outputs": [],
   "source": [
    "train_median = train_data['E isomer pi-pi* wavelength in nm'].median()\n",
    "\n",
    "train_binary_target =[1 if x < train_median else 0 for x in train_data['E isomer pi-pi* wavelength in nm']] \n",
    "test_binary_target = [1 if x < train_median else 0 for x in test_data['E isomer pi-pi* wavelength in nm']]\n",
    "\n",
    "\n",
    "train_binary_target = np.array(train_binary_target)\n",
    "test_binary_target = np.array(test_binary_target)"
   ]
  },
  {
   "cell_type": "code",
   "execution_count": 40,
   "metadata": {},
   "outputs": [],
   "source": [
    "classifier = GPTClassifier('transition_wavelength', tuner=Tuner())"
   ]
  },
  {
   "cell_type": "code",
   "execution_count": 42,
   "metadata": {},
   "outputs": [
    {
     "name": "stderr",
     "output_type": "stream",
     "text": [
      "Upload progress: 100%|██████████| 25.6k/25.6k [00:00<00:00, 41.7Mit/s]\n"
     ]
    },
    {
     "name": "stdout",
     "output_type": "stream",
     "text": [
      "Uploaded file from /Users/kevinmaikjablonka/git/kjappelbaum/gptchem/experiments/16_biased_inverse_design/out/20231008_111833/train.jsonl: file-1iBJofbbLeIhL9pPFstF5PXV\n",
      "No fine-tune has been retrieved\n",
      "None\n"
     ]
    }
   ],
   "source": [
    "classifier.fit(train_data['SMILES'].values, train_binary_target)"
   ]
  },
  {
   "cell_type": "code",
   "execution_count": 43,
   "metadata": {},
   "outputs": [
    {
     "name": "stdout",
     "output_type": "stream",
     "text": [
      "{'choices': ['0', '0', '1', '1', '1', '0', '1', '0', '0', '0'], 'logprobs': [None, None, None, None, None, None, None, None, None, None], 'model': 'ada:ft-personal-2023-10-08-09-59-33'}\n"
     ]
    }
   ],
   "source": [
    "predictions = classifier.predict(test_data['SMILES'].values[:10])"
   ]
  },
  {
   "cell_type": "code",
   "execution_count": 44,
   "metadata": {},
   "outputs": [
    {
     "data": {
      "text/plain": [
       "(#10) [0,0,1,1,1,0,1,0,0,0]"
      ]
     },
     "execution_count": 44,
     "metadata": {},
     "output_type": "execute_result"
    }
   ],
   "source": [
    "predictions"
   ]
  },
  {
   "cell_type": "code",
   "execution_count": 46,
   "metadata": {},
   "outputs": [
    {
     "data": {
      "text/plain": [
       "array([0, 0, 0, 0, 0, 0, 0, 0, 0, 0])"
      ]
     },
     "execution_count": 46,
     "metadata": {},
     "output_type": "execute_result"
    }
   ],
   "source": [
    "test_binary_target[:10]"
   ]
  },
  {
   "cell_type": "code",
   "execution_count": null,
   "metadata": {},
   "outputs": [],
   "source": []
  }
 ],
 "metadata": {
  "kernelspec": {
   "display_name": "gptchem",
   "language": "python",
   "name": "python3"
  },
  "language_info": {
   "codemirror_mode": {
    "name": "ipython",
    "version": 3
   },
   "file_extension": ".py",
   "mimetype": "text/x-python",
   "name": "python",
   "nbconvert_exporter": "python",
   "pygments_lexer": "ipython3",
   "version": "3.9.16"
  },
  "orig_nbformat": 4
 },
 "nbformat": 4,
 "nbformat_minor": 2
}
